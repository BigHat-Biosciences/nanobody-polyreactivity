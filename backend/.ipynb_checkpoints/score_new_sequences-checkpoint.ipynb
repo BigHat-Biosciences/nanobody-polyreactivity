{
 "cells": [
  {
   "cell_type": "code",
   "execution_count": 1,
   "id": "attempted-skiing",
   "metadata": {},
   "outputs": [],
   "source": [
    "import pandas as pd\n",
    "import subprocess\n",
    "import pickle\n",
    "import numpy as np\n",
    "from Bio.SeqUtils.ProtParam import ProteinAnalysis\n",
    "import re"
   ]
  },
  {
   "cell_type": "markdown",
   "id": "thousand-hudson",
   "metadata": {},
   "source": [
    "### Kmer arrays"
   ]
  },
  {
   "cell_type": "code",
   "execution_count": 2,
   "id": "varying-midnight",
   "metadata": {},
   "outputs": [],
   "source": [
    "def get_kmer_list(seq, include_framework='',kmer_len=3):\n",
    "    if 'C' in include_framework:\n",
    "        seq = 'C' + seq\n",
    "    if 'W' in include_framework:\n",
    "        seq = seq + 'W'\n",
    "    kmer_counts = {}\n",
    "    k = 1\n",
    "    while k <= kmer_len:\n",
    "        num_chunks = (len(seq)-kmer_len)+1\n",
    "        for idx in range(0,num_chunks):\n",
    "            kmer = seq[idx:idx+kmer_len]\n",
    "            assert len(kmer) == kmer_len\n",
    "            if kmer in kmer_counts:\n",
    "                kmer_counts[kmer] += 1\n",
    "            else:\n",
    "                kmer_counts[kmer] = 1\n",
    "        k += 1\n",
    "    return [(key,val) for key,val in kmer_counts.items()]"
   ]
  },
  {
   "cell_type": "code",
   "execution_count": 3,
   "id": "mexican-laundry",
   "metadata": {},
   "outputs": [],
   "source": [
    "def cdr_seqs_to_kmer(seqs, include_framework='',k=3):\n",
    "    seq_to_kmer_vector = {}\n",
    "    aa_list = 'ACDEFGHIKLMNPQRSTVWY'\n",
    "    kmer_list = [aa for aa in aa_list]\n",
    "    i = 1\n",
    "    last_kmer_list = kmer_list\n",
    "    while i < k:\n",
    "        more_kmer_list = []\n",
    "        for ii in last_kmer_list:\n",
    "            for aa in aa_list:\n",
    "                more_kmer_list.append(ii+aa)\n",
    "        kmer_list.extend(more_kmer_list)\n",
    "        last_kmer_list = more_kmer_list\n",
    "        i += 1\n",
    "    kmer_to_idx = {aa: i for i, aa in enumerate(kmer_list)}\n",
    "    for seq in seqs:\n",
    "        # Make into kmers\n",
    "        kmer_data_list = get_kmer_list(seq, include_framework=include_framework,kmer_len=k)\n",
    "        #print(len(kmer_data_list))\n",
    "        \n",
    "        norm_val = 0.\n",
    "        for kmer,count in kmer_data_list:\n",
    "            count = float(count)\n",
    "            norm_val += count # norm\n",
    "            # norm_val += (count * count) L2 norm\n",
    "        # norm_val = np.sqrt(norm_val) L2 norm\n",
    "\n",
    "        # L2 normalize\n",
    "        final_kmer_data_list = []\n",
    "        for kmer,count in kmer_data_list:\n",
    "            final_kmer_data_list.append((kmer_to_idx[kmer],float(count)/norm_val))\n",
    "\n",
    "        # save to a dictionary\n",
    "        seq_to_kmer_vector[seq] = final_kmer_data_list\n",
    "\n",
    "    kmer_arr = np.zeros((len(seqs), len(kmer_to_idx)), dtype=np.float32)\n",
    "    for i, seq in enumerate(seqs):\n",
    "        kmer_vector = seq_to_kmer_vector[seq]\n",
    "        for j_kmer,val in kmer_vector:\n",
    "            kmer_arr[i, j_kmer] = val\n",
    "    return kmer_arr"
   ]
  },
  {
   "cell_type": "markdown",
   "id": "bound-retro",
   "metadata": {},
   "source": [
    "### One hot arrays"
   ]
  },
  {
   "cell_type": "code",
   "execution_count": 4,
   "id": "environmental-bidding",
   "metadata": {},
   "outputs": [],
   "source": [
    "def one_hot_3D(s):\n",
    "    \"\"\" Transform sequence string into one-hot aa vector\"\"\"\n",
    "    # One-hot encode as row vector\n",
    "    aa_list = 'ACDEFGHIKLMNPQRSTVWY'\n",
    "    aa_dict = {}\n",
    "    for i,aa in enumerate(aa_list):\n",
    "        aa_dict[aa] = i\n",
    "    x = np.zeros((len(s), len(aa_list)))\n",
    "    for i, letter in enumerate(s):\n",
    "        if letter in aa_dict:\n",
    "            x[i , aa_dict[letter]] = 1\n",
    "    return x"
   ]
  },
  {
   "cell_type": "code",
   "execution_count": 5,
   "id": "dimensional-binding",
   "metadata": {},
   "outputs": [],
   "source": [
    "def cdr_seqs_to_onehot(seqs):\n",
    "    aa_list = 'ACDEFGHIKLMNPQRSTVWY'\n",
    "    aa_dict = {}\n",
    "    for i,aa in enumerate(aa_list):\n",
    "        aa_dict[aa] = i\n",
    "    onehot_array = np.empty((len(seqs),len(seqs.iloc[0]),20))\n",
    "    for s, seq in enumerate(seqs):\n",
    "        onehot_array[s] = one_hot_3D(seq)\n",
    "    onehot_array = onehot_array.reshape(len(seqs),-1)\n",
    "    return onehot_array"
   ]
  },
  {
   "cell_type": "markdown",
   "id": "adopted-olympus",
   "metadata": {},
   "source": [
    "### Process dataframe"
   ]
  },
  {
   "cell_type": "code",
   "execution_count": 24,
   "id": "severe-logistics",
   "metadata": {},
   "outputs": [],
   "source": [
    "def withgap_CDR3(seq):\n",
    "    if len(seq) < 22:\n",
    "        nogap_seq = seq.replace('-','')\n",
    "        if len(nogap_seq)%2 == 0:\n",
    "            gap_seq = nogap_seq[:len(nogap_seq)//2]+'-'*(22-len(nogap_seq))+nogap_seq[-len(nogap_seq)//2:]\n",
    "        else:\n",
    "            gap_seq = nogap_seq[:len(nogap_seq)//2+1]+'-'*(22-len(nogap_seq))+nogap_seq[-(len(nogap_seq)//2):]\n",
    "    else:\n",
    "        gap_seq = seq[:11]+seq[-11:]\n",
    "    return gap_seq"
   ]
  },
  {
   "cell_type": "code",
   "execution_count": 16,
   "id": "prescribed-gross",
   "metadata": {},
   "outputs": [],
   "source": [
    "kd = { 'A': 1.8,'R':-4.5,'N':-3.5,'D':-3.5,'C': 2.5,\n",
    "       'Q':-3.5,'E':-3.5,'G':-0.4,'H':-3.2,'I': 4.5,\n",
    "       'L': 3.8,'K':-3.9,'M': 1.9,'F': 2.8,'P':-1.6,\n",
    "       'S':-0.8,'T':-0.7,'W':-0.9,'Y':-1.3,'V': 4.2 }\n",
    "def hp_index(seq,kd=kd):\n",
    "    hp_ix = 0\n",
    "    for a in seq:\n",
    "        hp_ix += kd[a]    \n",
    "    return hp_ix/len(seq)"
   ]
  },
  {
   "cell_type": "code",
   "execution_count": 17,
   "id": "sized-pension",
   "metadata": {},
   "outputs": [],
   "source": [
    "N_glycosylation_pattern = 'N[^P][ST][^P]'"
   ]
  },
  {
   "cell_type": "code",
   "execution_count": 18,
   "id": "extended-hebrew",
   "metadata": {},
   "outputs": [],
   "source": [
    "# N-linked glycosylation\n",
    "def find_glyc(seq):\n",
    "    if re.search(N_glycosylation_pattern,seq):\n",
    "        return True\n",
    "    else:\n",
    "        return False"
   ]
  },
  {
   "cell_type": "code",
   "execution_count": 19,
   "id": "modular-ballot",
   "metadata": {},
   "outputs": [],
   "source": [
    "def extract_cdrs(file):\n",
    "    df = pd.read_csv(file)\n",
    "    df['CDR1_nogaps'] = df.loc[:,'27':'38'].fillna('-').apply(lambda x: ''.join(x).replace('-',''), axis=1)\n",
    "    df['CDR2_nogaps'] = df.loc[:,'55':'65'].fillna('-').apply(lambda x: ''.join(x).replace('-',''), axis=1)\n",
    "    df['CDR3_nogaps'] = df.loc[:,'105':'117'].fillna('-').apply(lambda x: ''.join(x).replace('-',''), axis=1)\n",
    "    df['CDR1_withgaps'] = df.loc[:,'27':'38'].fillna('-').apply(lambda x: ''.join(x), axis=1)\n",
    "    df['CDR2_withgaps'] = df.loc[:,'55':'65'].fillna('-').apply(lambda x: ''.join(x), axis=1)\n",
    "    df['CDR3_withgaps'] = df.loc[:,'105':'117'].fillna('-').apply(lambda x: ''.join(x), axis=1)\n",
    "    df['CDRS_nogaps'] = df['CDR1_nogaps'] + df['CDR2_nogaps'] + df['CDR3_nogaps']\n",
    "    df['CDRS_withgaps'] = df['CDR1_withgaps'] + df['CDR2_withgaps'] + df['CDR3_withgaps']\n",
    "    df['CDR1_withgaps'] = df['CDR1_withgaps'].str[:4]+df['CDR1_withgaps'].str[-4:]\n",
    "    df['CDR2_withgaps'] = df['CDR2_withgaps'].str[:5]+df['CDR2_withgaps'].str[-4:]\n",
    "    df['CDR3_withgaps'] = df['CDR3_withgaps'].apply(withgap_CDR3)\n",
    "    df['CDRS_withgaps'] = df['CDR1_withgaps'] + df['CDR2_withgaps'] + df['CDR3_withgaps']\n",
    "    df['CDRS_IP'] = df['CDRS_nogaps'].apply(lambda x: ProteinAnalysis(x).isoelectric_point())\n",
    "    df['CDRS_HP'] = df['CDRS_nogaps'].apply(hp_index)\n",
    "    df['CDR1_length'] = df['CDR1_nogaps'].str.len()\n",
    "    df['CDR2_length'] = df['CDR2_nogaps'].str.len()\n",
    "    df['CDR3_length'] = df['CDR3_nogaps'].str.len()\n",
    "    df['CDR1_glycosylation'] = df['CDR1_nogaps'].apply(lambda x: find_glyc(x))\n",
    "    df['CDR2_glycosylation'] = df['CDR2_nogaps'].apply(lambda x: find_glyc(x))\n",
    "    df['CDR3_glycosylation'] = df['CDR3_nogaps'].apply(lambda x: find_glyc(x))\n",
    "    return df"
   ]
  },
  {
   "cell_type": "markdown",
   "id": "general-defense",
   "metadata": {},
   "source": [
    "### Set up sequence fasta file"
   ]
  },
  {
   "cell_type": "code",
   "execution_count": 20,
   "id": "worldwide-relevance",
   "metadata": {},
   "outputs": [],
   "source": [
    "seq_strings = '>sample_seq1\\nQVQLVESGGGLVQAGGSLRLSCAASGLIFYDNMGWYRQAPGKERELVAAISSSGGSTSYADSVKGRFTISRDNAKNTVYLQMNSLKPEDTAVYYCAADSYPAYLGFVGFDYWGQGTQVTVSS\\n>sample_seq2\\nQVQLVESGGGLVQAGGSLRLSCAASGFTFVYYVMGWYRQAPGKERELVAAINAGGGSTYYADSVKGRFTISRDNAKNTVYLQMNSLKPEDTAVYYCNARVRVRLGRNWSSYYYWGQGTQVTVSS'"
   ]
  },
  {
   "cell_type": "code",
   "execution_count": 21,
   "id": "liable-polish",
   "metadata": {},
   "outputs": [],
   "source": [
    "with open('sample_sequences.fa', 'w') as f:\n",
    "    for l in seq_strings.split('\\n'):\n",
    "        f.write(l+'\\n')"
   ]
  },
  {
   "cell_type": "markdown",
   "id": "dense-encounter",
   "metadata": {},
   "source": [
    "### Run ANARCI"
   ]
  },
  {
   "cell_type": "code",
   "execution_count": 22,
   "id": "available-arabic",
   "metadata": {},
   "outputs": [
    {
     "data": {
      "text/plain": [
       "CompletedProcess(args='ANARCI -i sample_sequences.fa -o sample_sequences -s i --csv', returncode=0, stdout=b'', stderr=b'')"
      ]
     },
     "execution_count": 22,
     "metadata": {},
     "output_type": "execute_result"
    }
   ],
   "source": [
    "subprocess.run(\"ANARCI -i sample_sequences.fa -o sample_sequences -s i --csv\",shell=True,capture_output=True)"
   ]
  },
  {
   "cell_type": "markdown",
   "id": "canadian-preparation",
   "metadata": {},
   "source": [
    "### Annotate sequences"
   ]
  },
  {
   "cell_type": "code",
   "execution_count": 23,
   "id": "previous-reminder",
   "metadata": {},
   "outputs": [],
   "source": [
    "df = extract_cdrs('sample_sequences_H.csv')"
   ]
  },
  {
   "cell_type": "markdown",
   "id": "undefined-korean",
   "metadata": {},
   "source": [
    "### Score sequences"
   ]
  },
  {
   "cell_type": "code",
   "execution_count": 123,
   "id": "therapeutic-leonard",
   "metadata": {},
   "outputs": [],
   "source": [
    "m = pickle.load(open('./models/logistic_regression_onehot_CDRS.sav', 'rb'))\n",
    "X_test = cdr_seqs_to_onehot(df['CDRS_withgaps'])\n",
    "y_score = m.decision_function(X_test)\n",
    "y_pred = m.predict(X_test)\n",
    "df['logistic_regression_onehot_CDRS'] = y_score"
   ]
  },
  {
   "cell_type": "code",
   "execution_count": 124,
   "id": "photographic-utility",
   "metadata": {},
   "outputs": [],
   "source": [
    "m = pickle.load(open('./models/logistic_regression_3mer_CDRS.sav', 'rb'))\n",
    "X_test = cdr_seqs_to_kmer(df['CDRS_nogaps'],k=3)\n",
    "y_score = m.decision_function(X_test)\n",
    "y_pred = m.predict(X_test)\n",
    "df['logistic_regression_3mer_CDRS'] = y_score"
   ]
  },
  {
   "cell_type": "code",
   "execution_count": 127,
   "id": "contained-female",
   "metadata": {},
   "outputs": [
    {
     "data": {
      "text/html": [
       "<div>\n",
       "<style scoped>\n",
       "    .dataframe tbody tr th:only-of-type {\n",
       "        vertical-align: middle;\n",
       "    }\n",
       "\n",
       "    .dataframe tbody tr th {\n",
       "        vertical-align: top;\n",
       "    }\n",
       "\n",
       "    .dataframe thead th {\n",
       "        text-align: right;\n",
       "    }\n",
       "</style>\n",
       "<table border=\"1\" class=\"dataframe\">\n",
       "  <thead>\n",
       "    <tr style=\"text-align: right;\">\n",
       "      <th></th>\n",
       "      <th>Id</th>\n",
       "      <th>domain_no</th>\n",
       "      <th>hmm_species</th>\n",
       "      <th>chain_type</th>\n",
       "      <th>e-value</th>\n",
       "      <th>score</th>\n",
       "      <th>seqstart_index</th>\n",
       "      <th>seqend_index</th>\n",
       "      <th>identity_species</th>\n",
       "      <th>v_gene</th>\n",
       "      <th>...</th>\n",
       "      <th>CDRS_IP</th>\n",
       "      <th>CDRS_HP</th>\n",
       "      <th>CDR1_length</th>\n",
       "      <th>CDR2_length</th>\n",
       "      <th>CDR3_length</th>\n",
       "      <th>CDR1_glycosylation</th>\n",
       "      <th>CDR2_glycosylation</th>\n",
       "      <th>CDR3_glycosylation</th>\n",
       "      <th>logistic_regression_onehot_CDRS</th>\n",
       "      <th>logistic_regression_3mer_CDRS</th>\n",
       "    </tr>\n",
       "  </thead>\n",
       "  <tbody>\n",
       "    <tr>\n",
       "      <th>0</th>\n",
       "      <td>sample_seq1</td>\n",
       "      <td>0</td>\n",
       "      <td>alpaca</td>\n",
       "      <td>H</td>\n",
       "      <td>1.000000e-64</td>\n",
       "      <td>207.7</td>\n",
       "      <td>0</td>\n",
       "      <td>121</td>\n",
       "      <td>NaN</td>\n",
       "      <td>NaN</td>\n",
       "      <td>...</td>\n",
       "      <td>4.050028</td>\n",
       "      <td>0.278125</td>\n",
       "      <td>7</td>\n",
       "      <td>9</td>\n",
       "      <td>16</td>\n",
       "      <td>False</td>\n",
       "      <td>False</td>\n",
       "      <td>False</td>\n",
       "      <td>0.339223</td>\n",
       "      <td>1.972626</td>\n",
       "    </tr>\n",
       "    <tr>\n",
       "      <th>1</th>\n",
       "      <td>sample_seq2</td>\n",
       "      <td>0</td>\n",
       "      <td>alpaca</td>\n",
       "      <td>H</td>\n",
       "      <td>9.500000e-66</td>\n",
       "      <td>211.0</td>\n",
       "      <td>0</td>\n",
       "      <td>123</td>\n",
       "      <td>NaN</td>\n",
       "      <td>NaN</td>\n",
       "      <td>...</td>\n",
       "      <td>10.156494</td>\n",
       "      <td>-0.164706</td>\n",
       "      <td>8</td>\n",
       "      <td>9</td>\n",
       "      <td>17</td>\n",
       "      <td>False</td>\n",
       "      <td>False</td>\n",
       "      <td>True</td>\n",
       "      <td>-2.574229</td>\n",
       "      <td>-1.820696</td>\n",
       "    </tr>\n",
       "  </tbody>\n",
       "</table>\n",
       "<p>2 rows × 163 columns</p>\n",
       "</div>"
      ],
      "text/plain": [
       "            Id  domain_no hmm_species chain_type       e-value  score  \\\n",
       "0  sample_seq1          0      alpaca          H  1.000000e-64  207.7   \n",
       "1  sample_seq2          0      alpaca          H  9.500000e-66  211.0   \n",
       "\n",
       "   seqstart_index  seqend_index  identity_species  v_gene  ...    CDRS_IP  \\\n",
       "0               0           121               NaN     NaN  ...   4.050028   \n",
       "1               0           123               NaN     NaN  ...  10.156494   \n",
       "\n",
       "    CDRS_HP  CDR1_length CDR2_length CDR3_length CDR1_glycosylation  \\\n",
       "0  0.278125            7           9          16              False   \n",
       "1 -0.164706            8           9          17              False   \n",
       "\n",
       "  CDR2_glycosylation CDR3_glycosylation logistic_regression_onehot_CDRS  \\\n",
       "0              False              False                        0.339223   \n",
       "1              False               True                       -2.574229   \n",
       "\n",
       "  logistic_regression_3mer_CDRS  \n",
       "0                      1.972626  \n",
       "1                     -1.820696  \n",
       "\n",
       "[2 rows x 163 columns]"
      ]
     },
     "execution_count": 127,
     "metadata": {},
     "output_type": "execute_result"
    }
   ],
   "source": [
    "df.head()"
   ]
  },
  {
   "cell_type": "code",
   "execution_count": null,
   "id": "excellent-scout",
   "metadata": {},
   "outputs": [],
   "source": []
  }
 ],
 "metadata": {
  "kernelspec": {
   "display_name": "Python 3.8",
   "language": "python",
   "name": "py38"
  },
  "language_info": {
   "codemirror_mode": {
    "name": "ipython",
    "version": 3
   },
   "file_extension": ".py",
   "mimetype": "text/x-python",
   "name": "python",
   "nbconvert_exporter": "python",
   "pygments_lexer": "ipython3",
   "version": "3.8.8"
  }
 },
 "nbformat": 4,
 "nbformat_minor": 5
}
